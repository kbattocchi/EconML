{
 "cells": [
  {
   "cell_type": "code",
   "execution_count": 1,
   "metadata": {},
   "outputs": [],
   "source": [
    "# Import necessary packages\n",
    "from sklearn.model_selection import train_test_split\n",
    "from sklearn.metrics import mean_squared_error, accuracy_score\n",
    "from sklearn.datasets import load_iris\n",
    "from econml.sklearn_extensions.model_selection import SearchEstimatorList\n",
    "import warnings\n",
    "import numpy as np\n",
    "from econml.dml import LinearDML, CausalForestDML\n",
    "from econml.cate_interpreter import SingleTreeCateInterpreter, SingleTreePolicyInterpreter\n",
    "import pandas as pd\n",
    "from sklearn.preprocessing import PolynomialFeatures\n",
    "import matplotlib.pyplot as plt\n",
    "from sklearn.exceptions import ConvergenceWarning\n",
    "\n",
    "# Ignore the ConvergenceWarning\n",
    "warnings.filterwarnings(\"ignore\", category=ConvergenceWarning)\n",
    "\n",
    "%matplotlib inline"
   ]
  },
  {
   "cell_type": "markdown",
   "metadata": {},
   "source": [
    "# SearchEstimatorList\n",
    "\n",
    "The SearchEstimatorList class is a custom Python class designed to streamline the process of training multiple machine learning models and tuning their hyperparameters. This class can be especially useful when you're unsure which model will perform best on your data and you want to compare several of them.\n",
    "\n",
    "# Key Features\n",
    "\n",
    "    Multiple Model Training: The SearchEstimatorList class takes a list of Scikit-learn estimators (machine learning models) and trains each of them on your data.\n",
    "\n",
    "    Hyperparameter Tuning: For each model, the class conducts a grid search over a provided range of hyperparameters. This allows you to automatically find the hyperparameters that result in the best model performance.\n",
    "\n",
    "    Model Evaluation: The class retains the best performing model based on a specified scoring metric. This makes it easy to determine which model and hyperparameters are the most suitable for your data.\n",
    "\n",
    "    Data Scaling: The SearchEstimatorList class also supports data scaling, which can be important for certain types of models.\n",
    "\n",
    "    Handling of Different Target Types: This class handles both continuous and discrete target variables, making it suitable for both regression and classification tasks.\n",
    "\n",
    "# Usage\n",
    "\n",
    "To use the SearchEstimatorList class, you start by initializing an instance of the class with a list of models and their corresponding hyperparameter grids. Then, you call the fit method to train the models and conduct the grid search. After fitting, you can use the predict method to generate predictions for new data. The class also has methods to refit the best model using the entire dataset (refit) and to return the best model (best_model)."
   ]
  },
  {
   "cell_type": "markdown",
   "metadata": {},
   "source": [
    "# Classifier"
   ]
  },
  {
   "cell_type": "code",
   "execution_count": 7,
   "metadata": {},
   "outputs": [
    {
     "name": "stderr",
     "output_type": "stream",
     "text": [
      "No scoring value was given. Using default score method f1_macro.\n"
     ]
    },
    {
     "name": "stdout",
     "output_type": "stream",
     "text": [
      "Fitting 2 folds for each of 3 candidates, totalling 6 fits\n",
      "[CV 1/2] END ...................n_estimators=50;, score=0.916 total time=   0.1s\n",
      "[CV 2/2] END ...................n_estimators=50;, score=0.950 total time=   0.1s\n",
      "[CV 1/2] END ..................n_estimators=100;, score=0.916 total time=   0.1s\n",
      "[CV 2/2] END ..................n_estimators=100;, score=0.950 total time=   0.1s\n",
      "[CV 1/2] END ..................n_estimators=150;, score=0.916 total time=   0.1s\n",
      "[CV 2/2] END ..................n_estimators=150;, score=0.950 total time=   0.1s\n",
      "Fitting 2 folds for each of 9 candidates, totalling 18 fits\n",
      "[CV 1/2] END learning_rate=0.01, n_estimators=50;, score=0.900 total time=   0.0s\n",
      "[CV 2/2] END learning_rate=0.01, n_estimators=50;, score=0.950 total time=   0.0s\n",
      "[CV 1/2] END learning_rate=0.01, n_estimators=100;, score=0.900 total time=   0.0s\n",
      "[CV 2/2] END learning_rate=0.01, n_estimators=100;, score=0.950 total time=   0.1s\n",
      "[CV 1/2] END learning_rate=0.01, n_estimators=150;, score=0.900 total time=   0.1s\n",
      "[CV 2/2] END learning_rate=0.01, n_estimators=150;, score=0.950 total time=   0.1s\n",
      "[CV 1/2] END learning_rate=0.1, n_estimators=50;, score=0.900 total time=   0.0s\n",
      "[CV 2/2] END learning_rate=0.1, n_estimators=50;, score=0.950 total time=   0.0s\n",
      "[CV 1/2] END learning_rate=0.1, n_estimators=100;, score=0.900 total time=   0.1s\n",
      "[CV 2/2] END learning_rate=0.1, n_estimators=100;, score=0.933 total time=   0.1s\n",
      "[CV 1/2] END learning_rate=0.1, n_estimators=150;, score=0.900 total time=   0.1s\n",
      "[CV 2/2] END learning_rate=0.1, n_estimators=150;, score=0.933 total time=   0.1s\n",
      "[CV 1/2] END ..learning_rate=1, n_estimators=50;, score=0.900 total time=   0.0s\n",
      "[CV 2/2] END ..learning_rate=1, n_estimators=50;, score=0.933 total time=   0.0s\n",
      "[CV 1/2] END .learning_rate=1, n_estimators=100;, score=0.900 total time=   0.1s\n",
      "[CV 2/2] END .learning_rate=1, n_estimators=100;, score=0.933 total time=   0.1s\n",
      "[CV 1/2] END .learning_rate=1, n_estimators=150;, score=0.900 total time=   0.1s\n",
      "[CV 2/2] END .learning_rate=1, n_estimators=150;, score=0.933 total time=   0.1s\n",
      "Best estimator RandomForestClassifier(n_estimators=50) and best score 0.9330819977445048 and best params {'n_estimators': 50}\n",
      "Accuracy: 1.0\n"
     ]
    }
   ],
   "source": [
    "# Load the Iris dataset for classification\n",
    "iris = load_iris()\n",
    "\n",
    "# Split the dataset into training and test sets\n",
    "X_train_cls, X_test_cls, y_train_cls, y_test_cls = train_test_split(\n",
    "    iris.data, iris.target, test_size=0.2, random_state=42\n",
    ")\n",
    "\n",
    "# Define models and their parameter grids\n",
    "estimator_list_cls = ['forest', 'gbf']\n",
    "param_grid_list_cls = [{'n_estimators': [50, 100, 150]}, {'n_estimators': [50, 100, 150], 'learning_rate': [0.01, 0.1, 1]}]\n",
    "\n",
    "# Initialize SearchEstimatorList\n",
    "sel_cls = SearchEstimatorList(\n",
    "    estimator_list=estimator_list_cls, \n",
    "    param_grid_list=param_grid_list_cls, \n",
    "    is_discrete=True,\n",
    "    verbose=3\n",
    ")\n",
    "\n",
    "# Fit the model to the training data\n",
    "sel_cls.fit(X_train_cls, y_train_cls)\n",
    "\n",
    "# Predict outcomes for the test set\n",
    "predictions_cls = sel_cls.predict(X_test_cls)\n",
    "\n",
    "# Evaluate the model\n",
    "acc = accuracy_score(y_test_cls, predictions_cls)\n",
    "\n",
    "# Print the evaluation metric\n",
    "print(f\"Accuracy: {acc}\")\n",
    "\n"
   ]
  },
  {
   "cell_type": "markdown",
   "metadata": {},
   "source": [
    "# Regressor"
   ]
  },
  {
   "cell_type": "code",
   "execution_count": 3,
   "metadata": {},
   "outputs": [
    {
     "name": "stdout",
     "output_type": "stream",
     "text": [
      "Fitting 2 folds for each of 7 candidates, totalling 14 fits\n"
     ]
    },
    {
     "name": "stderr",
     "output_type": "stream",
     "text": [
      "/Users/anthonycampbell/Documents/EconML-CS696DS/econml/sklearn_extensions/model_selection.py:346: UserWarning: No scoring value was given. Using default score method neg_mean_squared_error.\n",
      "  warnings.warn(f\"No scoring value was given. Using default score method {self.scoring}.\")\n"
     ]
    },
    {
     "name": "stdout",
     "output_type": "stream",
     "text": [
      "[CV 1/2] END .....................l1_ratio=0.1;, score=-0.584 total time=   0.0s\n",
      "[CV 2/2] END .....................l1_ratio=0.1;, score=-0.725 total time=   0.0s\n",
      "[CV 1/2] END .....................l1_ratio=0.5;, score=-0.549 total time=   0.0s\n",
      "[CV 2/2] END .....................l1_ratio=0.5;, score=-0.675 total time=   0.0s\n",
      "[CV 1/2] END .....................l1_ratio=0.7;, score=-0.546 total time=   0.0s\n",
      "[CV 2/2] END .....................l1_ratio=0.7;, score=-0.668 total time=   0.0s\n",
      "[CV 1/2] END .....................l1_ratio=0.9;, score=-0.544 total time=   0.0s\n",
      "[CV 2/2] END .....................l1_ratio=0.9;, score=-0.663 total time=   0.0s\n",
      "[CV 1/2] END ....................l1_ratio=0.95;, score=-0.544 total time=   0.0s\n",
      "[CV 2/2] END ....................l1_ratio=0.95;, score=-0.662 total time=   0.0s\n",
      "[CV 1/2] END ....................l1_ratio=0.99;, score=-0.544 total time=   0.0s\n",
      "[CV 2/2] END ....................l1_ratio=0.99;, score=-0.661 total time=   0.0s\n",
      "[CV 1/2] END .......................l1_ratio=1;, score=-0.544 total time=   0.0s\n",
      "[CV 2/2] END .......................l1_ratio=1;, score=-0.661 total time=   0.0s\n",
      "Fitting 2 folds for each of 3 candidates, totalling 6 fits\n",
      "[CV 1/2] END ............hidden_layer_sizes=50;, score=-0.712 total time=   1.0s\n",
      "[CV 2/2] END ............hidden_layer_sizes=50;, score=-0.580 total time=   1.3s\n",
      "[CV 1/2] END ...........hidden_layer_sizes=100;, score=-0.695 total time=   0.8s\n",
      "[CV 2/2] END ...........hidden_layer_sizes=100;, score=-2.334 total time=   1.0s\n",
      "[CV 1/2] END ...........hidden_layer_sizes=200;, score=-0.641 total time=   8.1s\n",
      "[CV 2/2] END ...........hidden_layer_sizes=200;, score=-1.162 total time=   5.4s\n",
      "Best estimator ElasticNetCV(l1_ratio=1) and best score -0.6025662427788023 and best params {'l1_ratio': 1}\n",
      "Mean Squared Error: 0.5555752649052167\n"
     ]
    }
   ],
   "source": [
    "# Import necessary packages\n",
    "from sklearn.model_selection import train_test_split\n",
    "from sklearn.metrics import mean_squared_error, accuracy_score\n",
    "from sklearn.datasets import fetch_california_housing\n",
    "from econml.sklearn_extensions.model_selection import SearchEstimatorList\n",
    "\n",
    "# Load the Boston Housing dataset for regression\n",
    "california_housing = fetch_california_housing()\n",
    "\n",
    "# Split the dataset into training and test sets\n",
    "X_train_reg, X_test_reg, y_train_reg, y_test_reg = train_test_split(\n",
    "    california_housing.data, california_housing.target, test_size=0.2, random_state=42\n",
    ")\n",
    "\n",
    "# Define models and their parameter grids\n",
    "# This will use ElasticNet because it's a Linear Model and a Neural Network Regressor\n",
    "estimator_list_reg = ['linear', 'nnet']\n",
    "param_grid_list_reg = [{'l1_ratio': [.1, .5, .7, .9, .95, .99, 1]}, {'hidden_layer_sizes': [50, 100, 200]}]\n",
    "\n",
    "# Initialize SearchEstimatorList\n",
    "sel_reg = SearchEstimatorList(\n",
    "    estimator_list=estimator_list_reg, \n",
    "    param_grid_list=param_grid_list_reg,\n",
    "    is_discrete=False,\n",
    "    verbose=3\n",
    ")\n",
    "\n",
    "# Fit the model to the training data\n",
    "sel_reg.fit(X_train_reg, y_train_reg)\n",
    "\n",
    "# Predict outcomes for the test set\n",
    "predictions_reg = sel_reg.predict(X_test_reg)\n",
    "\n",
    "# Evaluate the model\n",
    "mse = mean_squared_error(y_test_reg, predictions_reg)\n",
    "\n",
    "# Print the evaluation metric\n",
    "print(f\"Mean Squared Error: {mse}\")\n",
    "\n"
   ]
  },
  {
   "cell_type": "markdown",
   "metadata": {},
   "source": [
    "# Using all estimators"
   ]
  },
  {
   "cell_type": "code",
   "execution_count": 4,
   "metadata": {},
   "outputs": [
    {
     "name": "stderr",
     "output_type": "stream",
     "text": [
      "/Users/anthonycampbell/Documents/EconML-CS696DS/econml/sklearn_extensions/model_selection.py:346: UserWarning: No scoring value was given. Using default score method f1_macro.\n",
      "  warnings.warn(f\"No scoring value was given. Using default score method {self.scoring}.\")\n"
     ]
    }
   ],
   "source": [
    "search = SearchEstimatorList(estimator_list = ['linear', 'forest', 'gbf', 'nnet', 'poly'], is_discrete=True)\n"
   ]
  },
  {
   "cell_type": "markdown",
   "metadata": {},
   "source": [
    "# Single Estimators and Model Objects"
   ]
  },
  {
   "cell_type": "code",
   "execution_count": 5,
   "metadata": {},
   "outputs": [
    {
     "name": "stdout",
     "output_type": "stream",
     "text": [
      "Best estimator LogisticRegression(C=0.001, max_iter=50, penalty='none', solver='sag') and best score 0.966624895572264 and best params {'C': 0.001, 'max_iter': 50, 'penalty': 'none', 'solver': 'sag'}\n",
      "LogisticRegression(C=0.001, max_iter=50, penalty='none', solver='sag')\n",
      "{'C': 0.001, 'max_iter': 50, 'penalty': 'none', 'solver': 'sag'}\n",
      "mse of test dataset: 0.0\n",
      "[[7.30818687e-04 9.18278306e-01 8.09908750e-02]\n",
      " [9.96517769e-01 3.48223146e-03 9.52705844e-13]\n",
      " [8.11833119e-11 2.27064968e-04 9.99772935e-01]\n",
      " [1.49082115e-03 8.82474441e-01 1.16034738e-01]\n",
      " [6.61814371e-04 9.57060549e-01 4.22776371e-02]\n",
      " [9.94291457e-01 5.70854348e-03 8.51181731e-12]\n",
      " [3.09570872e-02 9.66175329e-01 2.86758338e-03]\n",
      " [1.03620286e-04 2.72711857e-01 7.27184523e-01]\n",
      " [1.86273814e-04 5.89659675e-01 4.10154051e-01]\n",
      " [7.89829063e-03 9.84383361e-01 7.71834853e-03]\n",
      " [1.79967697e-04 3.80342060e-01 6.19477972e-01]\n",
      " [9.87625715e-01 1.23742845e-02 6.37903013e-11]\n",
      " [9.97989545e-01 2.01045508e-03 2.71212460e-13]\n",
      " [9.87073806e-01 1.29261936e-02 5.68033322e-11]\n",
      " [9.97732149e-01 2.26785067e-03 1.43489213e-12]\n",
      " [2.40047637e-03 9.42313621e-01 5.52859030e-02]\n",
      " [1.40979957e-07 5.60447914e-03 9.94395380e-01]\n",
      " [4.57991768e-03 9.78714479e-01 1.67056034e-02]\n",
      " [1.07687184e-03 8.47974601e-01 1.50948527e-01]\n",
      " [1.55738075e-07 5.44482660e-03 9.94555018e-01]\n",
      " [9.84143440e-01 1.58565593e-02 2.21243624e-10]\n",
      " [1.96353775e-04 3.77725182e-01 6.22078464e-01]\n",
      " [9.90664487e-01 9.33551321e-03 6.98033897e-11]\n",
      " [2.52736850e-07 8.46501225e-03 9.91534735e-01]\n",
      " [1.95677109e-05 4.08891407e-01 5.91089025e-01]\n",
      " [1.72461836e-05 8.83781623e-02 9.11604592e-01]\n",
      " [1.09118029e-07 1.18285926e-02 9.88171298e-01]\n",
      " [3.31801168e-07 1.03342423e-02 9.89665426e-01]\n",
      " [9.86532115e-01 1.34678849e-02 1.68835118e-10]\n",
      " [9.80493031e-01 1.95069688e-02 2.80655184e-10]]\n"
     ]
    }
   ],
   "source": [
    "with warnings.catch_warnings():\n",
    "    warnings.simplefilter(\"ignore\")\n",
    "\n",
    "    from sklearn.linear_model import LogisticRegression\n",
    "    lr_param_grid = {\n",
    "        'penalty': ['l1', 'l2', 'elasticnet', 'none'],\n",
    "        'C': [0.001, 0.01, 0.1, 1, 10, 100],\n",
    "        'solver': ['newton-cg', 'lbfgs', 'liblinear', 'sag', 'saga'],\n",
    "        'max_iter': [50, 100, 200, 500],\n",
    "    }\n",
    "\n",
    "    search = SearchEstimatorList(estimator_list = LogisticRegression(), param_grid_list= lr_param_grid, verbose=0, is_discrete=True)\n",
    "    search.fit(X_train_cls, y_train_cls)\n",
    "    print(search.best_model())\n",
    "    print(search.best_params_)\n",
    "    y_pred = search.predict(X_test_cls)\n",
    "\n",
    "    mse = mean_squared_error(y_test_cls, y_pred)\n",
    "\n",
    "print(\"mse of test dataset:\", mse,)\n",
    "print(search.predict_proba(X_test_cls))\n",
    "\n"
   ]
  },
  {
   "cell_type": "markdown",
   "metadata": {},
   "source": [
    "# Polynomial Feature\n"
   ]
  },
  {
   "cell_type": "code",
   "execution_count": 6,
   "metadata": {},
   "outputs": [
    {
     "name": "stdout",
     "output_type": "stream",
     "text": [
      "Fitting 2 folds for each of 9 candidates, totalling 18 fits\n",
      "[CV 1/2] END linear__l1_ratio=0.1, poly__degree=2;, score=0.322 total time=   0.3s\n",
      "[CV 2/2] END linear__l1_ratio=0.1, poly__degree=2;, score=0.287 total time=   0.2s\n",
      "[CV 1/2] END linear__l1_ratio=0.1, poly__degree=3;, score=0.000 total time=   0.3s\n",
      "[CV 2/2] END linear__l1_ratio=0.1, poly__degree=3;, score=0.014 total time=   0.3s\n",
      "[CV 1/2] END linear__l1_ratio=0.1, poly__degree=4;, score=0.000 total time=   1.0s\n",
      "[CV 2/2] END linear__l1_ratio=0.1, poly__degree=4;, score=-0.000 total time=   1.1s\n",
      "[CV 1/2] END linear__l1_ratio=0.5, poly__degree=2;, score=0.322 total time=   0.3s\n",
      "[CV 2/2] END linear__l1_ratio=0.5, poly__degree=2;, score=0.287 total time=   0.2s\n",
      "[CV 1/2] END linear__l1_ratio=0.5, poly__degree=3;, score=0.000 total time=   0.3s\n",
      "[CV 2/2] END linear__l1_ratio=0.5, poly__degree=3;, score=0.014 total time=   0.4s\n",
      "[CV 1/2] END linear__l1_ratio=0.5, poly__degree=4;, score=0.000 total time=   1.5s\n",
      "[CV 2/2] END linear__l1_ratio=0.5, poly__degree=4;, score=-0.000 total time=   1.3s\n",
      "[CV 1/2] END linear__l1_ratio=0.9, poly__degree=2;, score=0.322 total time=   0.2s\n",
      "[CV 2/2] END linear__l1_ratio=0.9, poly__degree=2;, score=0.287 total time=   0.2s\n",
      "[CV 1/2] END linear__l1_ratio=0.9, poly__degree=3;, score=0.000 total time=   0.3s\n",
      "[CV 2/2] END linear__l1_ratio=0.9, poly__degree=3;, score=0.014 total time=   0.4s\n",
      "[CV 1/2] END linear__l1_ratio=0.9, poly__degree=4;, score=0.000 total time=   1.1s\n",
      "[CV 2/2] END linear__l1_ratio=0.9, poly__degree=4;, score=-0.000 total time=   1.1s\n",
      "Best estimator Pipeline(steps=[('poly', PolynomialFeatures()),\n",
      "                ('linear', ElasticNetCV(l1_ratio=0.9))]) and best score 0.30443941337924607 and best params {'linear__l1_ratio': 0.9, 'poly__degree': 2}\n",
      "Mean Squared Error: 0.8894038237145269\n"
     ]
    }
   ],
   "source": [
    "with warnings.catch_warnings():\n",
    "    warnings.simplefilter(\"ignore\")\n",
    "    # For polynomial, please ensure that you have \"poly__\" (two \"_\" or underscores after poly) underneath to change degree\n",
    "    # To change the linear method please add \"linear__\" (two \"_\" or underscores after linear)\n",
    "    param_grid_list_poly = {'poly__degree': [2, 3, 4], 'linear__l1_ratio': [0.1, 0.5, 0.9]}\n",
    "    sel_reg = SearchEstimatorList(\n",
    "        estimator_list='poly', \n",
    "        param_grid_list=param_grid_list_poly,\n",
    "        is_discrete=False,\n",
    "        scoring='explained_variance',\n",
    "        verbose=3\n",
    "    )\n",
    "\n",
    "    # Fit the model to the training data\n",
    "    sel_reg.fit(X_train_reg, y_train_reg)\n",
    "\n",
    "    # Predict outcomes for the test set\n",
    "    predictions_reg = sel_reg.predict(X_test_reg)\n",
    "\n",
    "    # Evaluate the model\n",
    "    mse = mean_squared_error(y_test_reg, predictions_reg)\n",
    "\n",
    "    # Print the evaluation metric\n",
    "    print(f\"Mean Squared Error: {mse}\")\n"
   ]
  },
  {
   "cell_type": "code",
   "execution_count": 7,
   "metadata": {},
   "outputs": [
    {
     "name": "stdout",
     "output_type": "stream",
     "text": [
      "['linear', 'forest', 'gbf', 'nnet', 'poly']\n"
     ]
    }
   ],
   "source": [
    "# These are all of the supported models that we have that have built in hyper parameters already included\n",
    "print(sel_reg.supported_models)"
   ]
  },
  {
   "cell_type": "code",
   "execution_count": 8,
   "metadata": {},
   "outputs": [
    {
     "name": "stdout",
     "output_type": "stream",
     "text": [
      "Fitting 2 folds for each of 1 candidates, totalling 2 fits\n",
      "[CV 1/2] END .................................., score=-0.518 total time=   0.1s\n",
      "[CV 2/2] END .................................., score=-0.552 total time=   0.0s\n",
      "Fitting 2 folds for each of 1 candidates, totalling 2 fits\n",
      "[CV 1/2] END .................................., score=-0.287 total time=   1.3s\n",
      "[CV 2/2] END .................................., score=-0.293 total time=   1.3s\n",
      "Fitting 2 folds for each of 1 candidates, totalling 2 fits\n",
      "[CV 1/2] END .................................., score=-0.286 total time=   3.1s\n",
      "[CV 2/2] END .................................., score=-0.274 total time=   3.1s\n",
      "Fitting 2 folds for each of 1 candidates, totalling 2 fits\n",
      "[CV 1/2] END .................................., score=-0.305 total time=   3.2s\n",
      "[CV 2/2] END .................................., score=-0.305 total time=   3.0s\n",
      "Fitting 2 folds for each of 1 candidates, totalling 2 fits\n",
      "[CV 1/2] END .................................., score=-0.526 total time=   0.6s\n",
      "[CV 2/2] END ................................., score=-12.077 total time=   0.5s\n",
      "Best estimator RandomForestRegressor() and best score -0.27976201134927425 and best params {}\n",
      "Mean Squared Error: 0.2508316133481009\n"
     ]
    }
   ],
   "source": [
    "# To try every type of model simply use the \"all\" option\n",
    "with warnings.catch_warnings():\n",
    "    warnings.simplefilter(\"ignore\")\n",
    "    sel_reg = SearchEstimatorList(\n",
    "        estimator_list='all', \n",
    "        param_grid_list=None,\n",
    "        is_discrete=False,\n",
    "        scaling=True,\n",
    "        verbose=5\n",
    "    )\n",
    "\n",
    "    # Fit the model to the training data\n",
    "    sel_reg.fit(X_train_reg, y_train_reg)\n",
    "\n",
    "    # Predict outcomes for the test set\n",
    "    predictions_reg = sel_reg.predict(X_test_reg)\n",
    "\n",
    "    # Evaluate the model\n",
    "    mse = mean_squared_error(y_test_reg, predictions_reg)\n",
    "\n",
    "    # Print the evaluation metric\n",
    "    print(f\"Mean Squared Error: {mse}\")"
   ]
  },
  {
   "cell_type": "markdown",
   "metadata": {},
   "source": [
    "# Scoring functions\n",
    "\n",
    "Using a custom scoring function. See https://scikit-learn.org/stable/modules/model_evaluation.html for how to make your own scoring metric\n"
   ]
  },
  {
   "cell_type": "code",
   "execution_count": 9,
   "metadata": {},
   "outputs": [
    {
     "name": "stdout",
     "output_type": "stream",
     "text": [
      "Fitting 2 folds for each of 1 candidates, totalling 2 fits\n",
      "[CV 1/2] END .................................., score=-0.741 total time=   0.0s\n",
      "[CV 2/2] END .................................., score=-0.822 total time=   0.0s\n",
      "Fitting 2 folds for each of 1 candidates, totalling 2 fits\n",
      "[CV 1/2] END .................................., score=-2.404 total time=   0.8s\n",
      "[CV 2/2] END .................................., score=-1.671 total time=   0.8s\n",
      "Best estimator ElasticNetCV() and best score -0.7813657065847333 and best params {}\n",
      "Root Mean Squared Error: 0.7490149943228499\n"
     ]
    }
   ],
   "source": [
    "import numpy as np\n",
    "from sklearn.metrics import mean_squared_error\n",
    "from sklearn.metrics import make_scorer\n",
    "\n",
    "def root_mean_squared_error(y_true, y_pred):\n",
    "    mse = mean_squared_error(y_true, y_pred)\n",
    "    rmse = np.sqrt(mse)\n",
    "    return rmse\n",
    "loss_function  = make_scorer(root_mean_squared_error, greater_is_better=False)\n",
    "\n",
    "sel_reg = SearchEstimatorList(\n",
    "    estimator_list=estimator_list_reg, \n",
    "    param_grid_list=None,\n",
    "    is_discrete=False,\n",
    "    scoring=loss_function,\n",
    "    verbose=3\n",
    ")\n",
    "\n",
    "# Fit the model to the training data\n",
    "sel_reg.fit(X_train_reg, y_train_reg)\n",
    "\n",
    "# Predict outcomes for the test set\n",
    "predictions_reg = sel_reg.predict(X_test_reg)\n",
    "\n",
    "# Evaluate the model\n",
    "rmse = root_mean_squared_error(y_test_reg, predictions_reg)\n",
    "\n",
    "# Print the evaluation metric\n",
    "print(f\"Root Mean Squared Error: {rmse}\")"
   ]
  },
  {
   "cell_type": "markdown",
   "metadata": {},
   "source": [
    "# What this means for EconML?\n",
    "\n",
    "By integrating the SearchEstimatorList into econml, we can gain a number of benefits in these categories:\n",
    "\n",
    "    Model Selection: econml contains many different models, each with its own assumptions and use cases. By using SearchEstimatorList, you can more easily compare the performance of different models on your data and select the best one.\n",
    "\n",
    "    Hyperparameter Tuning: Many of the models in econml have hyperparameters that need to be tuned for optimal performance. SearchEstimatorList can automate this process by performing a grid search over specified hyperparameters for each model.\n",
    "\n",
    "    Efficiency: Instead of having to manually train each model and tune its hyperparameters, SearchEstimatorList can do this all at once. This can save a significant amount of time and make the model building process more efficient.\n",
    "\n",
    "See the example below with data taken fromt he Customer Segmentation at an Online Media Company Notebook"
   ]
  },
  {
   "cell_type": "code",
   "execution_count": 2,
   "metadata": {},
   "outputs": [
    {
     "name": "stderr",
     "output_type": "stream",
     "text": [
      "No scoring value was given. Using default score method neg_mean_squared_error.\n",
      "A column-vector y was passed when a 1d array was expected. Please change the shape of y to (n_samples, ), for example using ravel().\n",
      "A column-vector y was passed when a 1d array was expected. Please change the shape of y to (n_samples, ), for example using ravel().\n"
     ]
    },
    {
     "name": "stdout",
     "output_type": "stream",
     "text": [
      "*** Causal Estimate ***\n",
      "\n",
      "## Identified estimand\n",
      "Estimand type: nonparametric-ate\n",
      "\n",
      "### Estimand : 1\n",
      "Estimand name: backdoor\n",
      "Estimand expression:\n",
      "     d                                                                        \n",
      "────────────(E[log_demand|income,friends_count,days_⟨visited,⟩_hours,age,songs\n",
      "d[log_price]                                                                  \n",
      "\n",
      "                                             \n",
      "_purchased,has_membership,is_US,account_age])\n",
      "                                             \n",
      "Estimand assumption 1, Unconfoundedness: If U→{log_price} and U→log_demand then P(log_demand|log_price,income,friends_count,days_visited,avg_hours,age,songs_purchased,has_membership,is_US,account_age,U) = P(log_demand|log_price,income,friends_count,days_visited,avg_hours,age,songs_purchased,has_membership,is_US,account_age)\n",
      "\n",
      "## Realized estimand\n",
      "b: log_demand~log_price+income+friends_count+days_visited+avg_hours+age+songs_purchased+has_membership+is_US+account_age | income\n",
      "Target units: ate\n",
      "\n",
      "## Estimate\n",
      "Mean value: 2.6518132830256684\n",
      "Effect estimates: [ 2.57968831 -0.23224908  4.35502223 ...  0.85234463 -3.53167996\n",
      "  6.99294565]\n",
      "\n"
     ]
    }
   ],
   "source": [
    "# Import the sample pricing data\n",
    "file_url = \"https://msalicedatapublic.z5.web.core.windows.net/datasets/Pricing/pricing_sample.csv\"\n",
    "train_data = pd.read_csv(file_url)\n",
    "\n",
    "# Data sample\n",
    "train_data.head()\n",
    "\n",
    "# Define estimator inputs\n",
    "train_data[\"log_demand\"] = np.log(train_data[\"demand\"])\n",
    "train_data[\"log_price\"] = np.log(train_data[\"price\"])\n",
    "\n",
    "Y = train_data[\"log_demand\"].values\n",
    "T = train_data[\"log_price\"].values\n",
    "X = train_data[[\"income\"]].values  # features\n",
    "confounder_names = [\"account_age\", \"age\", \"avg_hours\", \"days_visited\", \"friends_count\", \"has_membership\", \"is_US\", \"songs_purchased\"]\n",
    "W = train_data[confounder_names].values\n",
    "\n",
    "# Get test data\n",
    "X_test = np.linspace(0, 5, 100).reshape(-1, 1)\n",
    "X_test_data = pd.DataFrame(X_test, columns=[\"income\"])\n",
    "\n",
    "# initiate an EconML cate estimator\n",
    "est = LinearDML(model_y='gbf', model_t='gbf',\n",
    "              featurizer=PolynomialFeatures(degree=2, include_bias=False))\n",
    "\n",
    "# fit through dowhy\n",
    "est_dw = est.dowhy.fit(Y, T, X=X, W=W, outcome_names=[\"log_demand\"], treatment_names=[\"log_price\"], feature_names=[\"income\"],\n",
    "               confounder_names=confounder_names, inference=\"statsmodels\")\n",
    "\n",
    "lineardml_estimate = est_dw.estimate_\n",
    "print(lineardml_estimate)\n"
   ]
  },
  {
   "cell_type": "code",
   "execution_count": 3,
   "metadata": {},
   "outputs": [
    {
     "data": {
      "text/plain": [
       "<matplotlib.legend.Legend at 0x168515a30>"
      ]
     },
     "execution_count": 3,
     "metadata": {},
     "output_type": "execute_result"
    },
    {
     "data": {
      "image/png": "[encoded data removed]",
      "text/plain": [
       "<Figure size 1000x600 with 1 Axes>"
      ]
     },
     "metadata": {},
     "output_type": "display_data"
    }
   ],
   "source": [
    "# Define underlying treatment effect function given DGP\n",
    "def gamma_fn(X):\n",
    "    return -3 - 14 * (X[\"income\"] < 1)\n",
    "\n",
    "def beta_fn(X):\n",
    "    return 20 + 0.5 * (X[\"avg_hours\"]) + 5 * (X[\"days_visited\"] > 4)\n",
    "\n",
    "def demand_fn(data, T):\n",
    "    Y = gamma_fn(data) * T + beta_fn(data)\n",
    "    return Y\n",
    "\n",
    "def true_te(x, n, stats):\n",
    "    if x < 1:\n",
    "        subdata = train_data[train_data[\"income\"] < 1].sample(n=n, replace=True)\n",
    "    else:\n",
    "        subdata = train_data[train_data[\"income\"] >= 1].sample(n=n, replace=True)\n",
    "    te_array = subdata[\"price\"] * gamma_fn(subdata) / (subdata[\"demand\"])\n",
    "    if stats == \"mean\":\n",
    "        return np.mean(te_array)\n",
    "    elif stats == \"median\":\n",
    "        return np.median(te_array)\n",
    "    elif isinstance(stats, int):\n",
    "        return np.percentile(te_array, stats)\n",
    "\n",
    "# Get the estimate and range of true treatment effect\n",
    "truth_te_estimate = np.apply_along_axis(true_te, 1, X_test, 1000, \"mean\")  # estimate\n",
    "truth_te_upper = np.apply_along_axis(true_te, 1, X_test, 1000, 95)  # upper level\n",
    "truth_te_lower = np.apply_along_axis(true_te, 1, X_test, 1000, 5)  # lower level\n",
    "\n",
    "te_pred = est_dw.effect(X_test).flatten()\n",
    "te_pred_interval = est_dw.effect_interval(X_test)\n",
    "\n",
    "# Compare the estimate and the truth\n",
    "plt.figure(figsize=(10, 6))\n",
    "plt.plot(X_test.flatten(), te_pred, label=\"Sales Elasticity Prediction\")\n",
    "plt.plot(X_test.flatten(), truth_te_estimate, \"--\", label=\"True Elasticity\")\n",
    "plt.fill_between(\n",
    "    X_test.flatten(),\n",
    "    te_pred_interval[0].flatten(),\n",
    "    te_pred_interval[1].flatten(),\n",
    "    alpha=0.2,\n",
    "    label=\"95% Confidence Interval\",\n",
    ")\n",
    "plt.fill_between(\n",
    "    X_test.flatten(),\n",
    "    truth_te_lower,\n",
    "    truth_te_upper,\n",
    "    alpha=0.2,\n",
    "    label=\"True Elasticity Range\",\n",
    ")\n",
    "plt.xlabel(\"Income\")\n",
    "plt.ylabel(\"Songs Sales Elasticity\")\n",
    "plt.title(\"Songs Sales Elasticity vs Income\")\n",
    "plt.legend(loc=\"lower right\")"
   ]
  },
  {
   "cell_type": "code",
   "execution_count": 18,
   "metadata": {},
   "outputs": [
    {
     "name": "stderr",
     "output_type": "stream",
     "text": [
      "No scoring value was given. Using default score method neg_mean_squared_error.\n",
      "A column-vector y was passed when a 1d array was expected. Please change the shape of y to (n_samples,), for example using ravel().\n"
     ]
    },
    {
     "name": "stdout",
     "output_type": "stream",
     "text": [
      "Processing estimator: RandomForestRegressor\n",
      "Fitting 2 folds for each of 1 candidates, totalling 2 fits\n",
      "[CV] END .................................................... total time=   1.1s\n"
     ]
    },
    {
     "name": "stderr",
     "output_type": "stream",
     "text": [
      "A column-vector y was passed when a 1d array was expected. Please change the shape of y to (n_samples,), for example using ravel().\n"
     ]
    },
    {
     "name": "stdout",
     "output_type": "stream",
     "text": [
      "[CV] END .................................................... total time=   0.7s\n"
     ]
    },
    {
     "name": "stderr",
     "output_type": "stream",
     "text": [
      "A column-vector y was passed when a 1d array was expected. Please change the shape of y to (n_samples,), for example using ravel().\n"
     ]
    },
    {
     "name": "stdout",
     "output_type": "stream",
     "text": [
      "Processing estimator: MLPRegressor\n",
      "Fitting 2 folds for each of 1 candidates, totalling 2 fits\n"
     ]
    },
    {
     "name": "stderr",
     "output_type": "stream",
     "text": [
      "A column-vector y was passed when a 1d array was expected. Please change the shape of y to (n_samples, ), for example using ravel().\n"
     ]
    },
    {
     "name": "stdout",
     "output_type": "stream",
     "text": [
      "[CV] END .................................................... total time=   0.3s\n"
     ]
    },
    {
     "name": "stderr",
     "output_type": "stream",
     "text": [
      "A column-vector y was passed when a 1d array was expected. Please change the shape of y to (n_samples, ), for example using ravel().\n"
     ]
    },
    {
     "name": "stdout",
     "output_type": "stream",
     "text": [
      "[CV] END .................................................... total time=   0.4s\n"
     ]
    },
    {
     "name": "stderr",
     "output_type": "stream",
     "text": [
      "A column-vector y was passed when a 1d array was expected. Please change the shape of y to (n_samples, ), for example using ravel().\n"
     ]
    },
    {
     "name": "stdout",
     "output_type": "stream",
     "text": [
      "Best estimator RandomForestRegressor() and best score -0.007087413279468611 and best params {}\n",
      "Processing estimator: RandomForestRegressor\n",
      "Fitting 2 folds for each of 1 candidates, totalling 2 fits\n",
      "[CV] END .................................................... total time=   2.3s\n",
      "[CV] END .................................................... total time=   2.3s\n",
      "Processing estimator: MLPRegressor\n",
      "Fitting 2 folds for each of 1 candidates, totalling 2 fits\n",
      "[CV] END .................................................... total time=  12.6s\n",
      "[CV] END .................................................... total time=  10.5s\n",
      "Best estimator RandomForestRegressor() and best score -0.015753967716546576 and best params {}\n",
      "Processing estimator: RandomForestRegressor\n",
      "Fitting 2 folds for each of 1 candidates, totalling 2 fits\n"
     ]
    },
    {
     "name": "stderr",
     "output_type": "stream",
     "text": [
      "A column-vector y was passed when a 1d array was expected. Please change the shape of y to (n_samples,), for example using ravel().\n"
     ]
    },
    {
     "name": "stdout",
     "output_type": "stream",
     "text": [
      "[CV] END .................................................... total time=   0.7s\n"
     ]
    },
    {
     "name": "stderr",
     "output_type": "stream",
     "text": [
      "A column-vector y was passed when a 1d array was expected. Please change the shape of y to (n_samples,), for example using ravel().\n"
     ]
    },
    {
     "name": "stdout",
     "output_type": "stream",
     "text": [
      "[CV] END .................................................... total time=   0.7s\n"
     ]
    },
    {
     "name": "stderr",
     "output_type": "stream",
     "text": [
      "A column-vector y was passed when a 1d array was expected. Please change the shape of y to (n_samples,), for example using ravel().\n"
     ]
    },
    {
     "name": "stdout",
     "output_type": "stream",
     "text": [
      "Processing estimator: MLPRegressor\n",
      "Fitting 2 folds for each of 1 candidates, totalling 2 fits\n",
      "[CV] END .................................................... total time=   0.2s\n"
     ]
    },
    {
     "name": "stderr",
     "output_type": "stream",
     "text": [
      "A column-vector y was passed when a 1d array was expected. Please change the shape of y to (n_samples, ), for example using ravel().\n",
      "A column-vector y was passed when a 1d array was expected. Please change the shape of y to (n_samples, ), for example using ravel().\n"
     ]
    },
    {
     "name": "stdout",
     "output_type": "stream",
     "text": [
      "[CV] END .................................................... total time=   0.3s\n"
     ]
    },
    {
     "name": "stderr",
     "output_type": "stream",
     "text": [
      "A column-vector y was passed when a 1d array was expected. Please change the shape of y to (n_samples, ), for example using ravel().\n"
     ]
    },
    {
     "name": "stdout",
     "output_type": "stream",
     "text": [
      "Best estimator RandomForestRegressor() and best score -0.006845612318994855 and best params {}\n",
      "Processing estimator: RandomForestRegressor\n",
      "Fitting 2 folds for each of 1 candidates, totalling 2 fits\n",
      "[CV] END .................................................... total time=   2.2s\n",
      "[CV] END .................................................... total time=   2.1s\n",
      "Processing estimator: MLPRegressor\n",
      "Fitting 2 folds for each of 1 candidates, totalling 2 fits\n",
      "[CV] END .................................................... total time=  12.2s\n",
      "[CV] END .................................................... total time=  14.3s\n",
      "Best estimator RandomForestRegressor() and best score -0.014455828883075759 and best params {}\n",
      "*** Causal Estimate ***\n",
      "\n",
      "## Identified estimand\n",
      "Estimand type: nonparametric-ate\n",
      "\n",
      "### Estimand : 1\n",
      "Estimand name: backdoor\n",
      "Estimand expression:\n",
      "     d                                                                        \n",
      "────────────(E[log_demand|income,friends_count,days_⟨visited,⟩_hours,age,songs\n",
      "d[log_price]                                                                  \n",
      "\n",
      "                                             \n",
      "_purchased,has_membership,is_US,account_age])\n",
      "                                             \n",
      "Estimand assumption 1, Unconfoundedness: If U→{log_price} and U→log_demand then P(log_demand|log_price,income,friends_count,days_visited,avg_hours,age,songs_purchased,has_membership,is_US,account_age,U) = P(log_demand|log_price,income,friends_count,days_visited,avg_hours,age,songs_purchased,has_membership,is_US,account_age)\n",
      "\n",
      "## Realized estimand\n",
      "b: log_demand~log_price+income+friends_count+days_visited+avg_hours+age+songs_purchased+has_membership+is_US+account_age | income\n",
      "Target units: ate\n",
      "\n",
      "## Estimate\n",
      "Mean value: -0.9764341213588181\n",
      "Effect estimates: [-1.06939218 -1.44817143 -0.81689907 ... -1.30445479 -1.87209822\n",
      " -0.40427838]\n",
      "\n"
     ]
    }
   ],
   "source": [
    "# initiate an EconML cate estimator\n",
    "\n",
    "est = LinearDML(model_y=['forest', 'nnet'], model_t=['nnet', 'forest'], scaling=False,\n",
    "              featurizer=PolynomialFeatures(degree=2, include_bias=False))\n",
    "\n",
    "# fit through dowhy\n",
    "est_dw = est.dowhy.fit(Y, T, X=X, W=W, outcome_names=[\"log_demand\"], treatment_names=[\"log_price\"], feature_names=[\"income\"],\n",
    "               confounder_names=confounder_names, inference=\"statsmodels\")\n",
    "\n",
    "lineardml_estimate = est_dw.estimate_\n",
    "print(lineardml_estimate)"
   ]
  },
  {
   "cell_type": "code",
   "execution_count": 19,
   "metadata": {},
   "outputs": [
    {
     "data": {
      "text/plain": [
       "<matplotlib.legend.Legend at 0x2b786f430>"
      ]
     },
     "execution_count": 19,
     "metadata": {},
     "output_type": "execute_result"
    },
    {
     "data": {
      "image/png": "[encoded data removed]",
      "text/plain": [
       "<Figure size 1000x600 with 1 Axes>"
      ]
     },
     "metadata": {},
     "output_type": "display_data"
    }
   ],
   "source": [
    "te_pred = est_dw.effect(X_test).flatten()\n",
    "te_pred_interval = est_dw.effect_interval(X_test)\n",
    "\n",
    "# Compare the estimate and the truth\n",
    "plt.figure(figsize=(10, 6))\n",
    "plt.plot(X_test.flatten(), te_pred, label=\"Sales Elasticity Prediction\")\n",
    "plt.plot(X_test.flatten(), truth_te_estimate, \"--\", label=\"True Elasticity\")\n",
    "plt.fill_between(\n",
    "    X_test.flatten(),\n",
    "    te_pred_interval[0].flatten(),\n",
    "    te_pred_interval[1].flatten(),\n",
    "    alpha=0.2,\n",
    "    label=\"95% Confidence Interval\",\n",
    ")\n",
    "plt.fill_between(\n",
    "    X_test.flatten(),\n",
    "    truth_te_lower,\n",
    "    truth_te_upper,\n",
    "    alpha=0.2,\n",
    "    label=\"True Elasticity Range\",\n",
    ")\n",
    "plt.xlabel(\"Income\")\n",
    "plt.ylabel(\"Songs Sales Elasticity\")\n",
    "plt.title(\"Songs Sales Elasticity vs Income\")\n",
    "plt.legend(loc=\"lower right\")"
   ]
  }
 ],
 "metadata": {
  "kernelspec": {
   "display_name": "base",
   "language": "python",
   "name": "python3"
  },
  "language_info": {
   "codemirror_mode": {
    "name": "ipython",
    "version": 3
   },
   "file_extension": ".py",
   "mimetype": "text/x-python",
   "name": "python",
   "nbconvert_exporter": "python",
   "pygments_lexer": "ipython3",
   "version": "3.9.15"
  },
  "orig_nbformat": 4
 },
 "nbformat": 4,
 "nbformat_minor": 2
}
